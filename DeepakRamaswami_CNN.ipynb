{
  "cells": [
    {
      "cell_type": "markdown",
      "metadata": {
        "id": "Q91KqmCRu64D"
      },
      "source": [
        "# **Project - Convolutional Neural Networks: Street View Housing Number Digit Recognition**\n",
        "\n",
        "# Marks: 30\n",
        "\n",
        "Welcome to the project on classification using Convolutional Neural Networks. We will continue to work with the Street View Housing Numbers (SVHN) image dataset for this project.\n",
        "\n",
        "--------------\n",
        "### **Context:** \n",
        "--------------\n",
        "\n",
        "One of the most interesting tasks in deep learning is to recognize objects in natural scenes. The ability to process visual information using machine learning algorithms can be very useful as demonstrated in various applications.\n",
        "\n",
        "The SVHN dataset contains over 600,000 labeled digits cropped from street-level photos. It is one of the most popular image recognition datasets. It has been used in neural networks created by Google to improve map quality by automatically transcribing the address numbers from a patch of pixels. The transcribed number with a known street address helps pinpoint the location of the building it represents. \n",
        "\n",
        "----------------\n",
        "### **Objective:**\n",
        "----------------\n",
        "\n",
        "Build a CNN model that can identify the digits in the images.\n",
        "\n",
        "-------------\n",
        "### **Dataset**\n",
        "-------------\n",
        "Here, we will use a subset of the original data to save some computation time. The dataset is provided as a .h5 file. The basic preprocessing steps have been done."
      ]
    },
    {
      "cell_type": "markdown",
      "metadata": {
        "id": "8z2Z7-OAs8QG"
      },
      "source": [
        "## **Mount the drive**\n",
        "Let us start by mounting the drive and importing the necessary libraries."
      ]
    },
    {
      "cell_type": "code",
      "execution_count": 3,
      "metadata": {
        "colab": {
          "base_uri": "https://localhost:8080/"
        },
        "id": "03lDyQUuef7z",
        "outputId": "0b31947c-ada0-4d70-aa4b-a4fa2106499e"
      },
      "outputs": [
        {
          "output_type": "stream",
          "name": "stdout",
          "text": [
            "Mounted at /content/drive\n"
          ]
        }
      ],
      "source": [
        "from google.colab import drive\n",
        "drive.mount('/content/drive')"
      ]
    },
    {
      "cell_type": "markdown",
      "metadata": {
        "id": "C8U3DUa3eNsT"
      },
      "source": [
        "## **Importing libraries**"
      ]
    },
    {
      "cell_type": "code",
      "execution_count": 4,
      "metadata": {
        "id": "-dVzeuF3eQx1"
      },
      "outputs": [],
      "source": [
        "import numpy as np\n",
        "import pandas as pd\n",
        "import matplotlib.pyplot as plt\n",
        "import seaborn as sns\n",
        "\n",
        "from sklearn.model_selection import train_test_split\n",
        "from sklearn.preprocessing import MinMaxScaler\n",
        "\n",
        "import tensorflow as tf\n",
        "from tensorflow.keras.models import Sequential\n",
        "from tensorflow.keras.layers import Dense, Conv2D, MaxPool2D, BatchNormalization, Dropout, Flatten, LeakyReLU\n",
        "from tensorflow.keras.utils import to_categorical"
      ]
    },
    {
      "cell_type": "markdown",
      "metadata": {
        "id": "ucnevGLoyKf_"
      },
      "source": [
        "Let us check for the version of TensorFlow."
      ]
    },
    {
      "cell_type": "code",
      "execution_count": 5,
      "metadata": {
        "colab": {
          "base_uri": "https://localhost:8080/"
        },
        "id": "W5as47YxyJVk",
        "outputId": "75b5c383-85fc-45bd-9015-339d17735038"
      },
      "outputs": [
        {
          "output_type": "stream",
          "name": "stdout",
          "text": [
            "2.8.0\n"
          ]
        }
      ],
      "source": [
        "print(tf.__version__)"
      ]
    },
    {
      "cell_type": "markdown",
      "metadata": {
        "id": "8lsux2ZwyTTR"
      },
      "source": [
        "## **Load the dataset**\n",
        "- Let us now load the dataset that is available as a .h5 file.\n",
        "- Split the data into train and the test dataset"
      ]
    },
    {
      "cell_type": "code",
      "execution_count": 6,
      "metadata": {
        "id": "BApX9qgNsqV0",
        "scrolled": true
      },
      "outputs": [],
      "source": [
        "import h5py\n",
        "\n",
        "# Open the file as read only\n",
        "# User can make changes in the path as required\n",
        "h5f = h5py.File('/content/drive/MyDrive/SVHN_single_grey1.h5', 'r')\n",
        "\n",
        "# Load the training and the test set\n",
        "X_train = h5f['X_train'][:]\n",
        "y_train = h5f['y_train'][:]\n",
        "X_test = h5f['X_test'][:]\n",
        "y_test = h5f['y_test'][:]\n",
        "\n",
        "\n",
        "# Close this file\n",
        "h5f.close()"
      ]
    },
    {
      "cell_type": "markdown",
      "metadata": {
        "id": "hVe0CYpUgj7w"
      },
      "source": [
        "Let's check the number of images in the training and testing data."
      ]
    },
    {
      "cell_type": "code",
      "execution_count": 7,
      "metadata": {
        "colab": {
          "base_uri": "https://localhost:8080/"
        },
        "id": "y3lwKpOefkpA",
        "outputId": "25fded83-c8da-4965-a800-9c3077e4faef"
      },
      "outputs": [
        {
          "output_type": "execute_result",
          "data": {
            "text/plain": [
              "(42000, 18000)"
            ]
          },
          "metadata": {},
          "execution_count": 7
        }
      ],
      "source": [
        "len(X_train), len(X_test)"
      ]
    },
    {
      "cell_type": "markdown",
      "metadata": {
        "id": "akTUOfLlgwoM"
      },
      "source": [
        "**Observations**\n",
        "- There are 42,000 images in the training data and 18,000 images in the testing data. "
      ]
    },
    {
      "cell_type": "markdown",
      "metadata": {
        "id": "kxODV6HKykuc"
      },
      "source": [
        "## **Visualizing images**\n",
        "- Use X_train to visualize the first 10 images\n",
        "- Use Y_train to print the first 10 labels"
      ]
    },
    {
      "cell_type": "markdown",
      "metadata": {
        "id": "Rn5IZYv-e2TC"
      },
      "source": [
        "#### **Question 1: Complete the below code to visualize the first 10 images from the training data (1 Mark)**"
      ]
    },
    {
      "cell_type": "code",
      "execution_count": 8,
      "metadata": {
        "colab": {
          "base_uri": "https://localhost:8080/",
          "height": 95
        },
        "id": "Bvsc8ytHsqWD",
        "outputId": "2a13afe2-f0fa-4ca0-c7b9-018827838491"
      },
      "outputs": [
        {
          "output_type": "display_data",
          "data": {
            "image/png": "[encoded data removed]",
            "text/plain": [
              "<Figure size 720x72 with 10 Axes>"
            ]
          },
          "metadata": {
            "needs_background": "light"
          }
        },
        {
          "output_type": "stream",
          "name": "stdout",
          "text": [
            "label for each of the above image: [2 6 7 4 4 0 3 0 7 3]\n"
          ]
        }
      ],
      "source": [
        "# visualizing the first 10 images in the dataset and their labels\n",
        "plt.figure(figsize=(10, 1))\n",
        "\n",
        "for i in range(10):\n",
        "    plt.subplot(1, 10, i+1)\n",
        "    plt.imshow(X_train[i], cmap=\"gray\") # write the function to visualize images\n",
        "    plt.axis('off')\n",
        "\n",
        "plt.show()\n",
        "print('label for each of the above image: %s' % (y_train[0:10]))"
      ]
    },
    {
      "cell_type": "markdown",
      "metadata": {
        "id": "kzoyeXHOy80N"
      },
      "source": [
        "## **Data Preparation**\n",
        "\n",
        "- Print the first image in the train image and figure out the shape of the images\n",
        "- Reshape the train and the test dataset to make them fit the first convolutional operation that we will create later. Figure out the required shape\n",
        "- Normalize the train and the test dataset by dividing by 255\n",
        "- Print the new shapes of the train and the test set\n",
        "- One-hot encode the target variable"
      ]
    },
    {
      "cell_type": "code",
      "execution_count": 9,
      "metadata": {
        "colab": {
          "base_uri": "https://localhost:8080/"
        },
        "id": "NqndzQXng9rL",
        "outputId": "5a50da7c-b4be-49c8-b156-568e195edff8"
      },
      "outputs": [
        {
          "output_type": "stream",
          "name": "stdout",
          "text": [
            "Shape: (32, 32)\n",
            "\n",
            "First image:\n",
            " [[ 33.0704  30.2601  26.852  ...  71.4471  58.2204  42.9939]\n",
            " [ 25.2283  25.5533  29.9765 ... 113.0209 103.3639  84.2949]\n",
            " [ 26.2775  22.6137  40.4763 ... 113.3028 121.775  115.4228]\n",
            " ...\n",
            " [ 28.5502  36.212   45.0801 ...  24.1359  25.0927  26.0603]\n",
            " [ 38.4352  26.4733  23.2717 ...  28.1094  29.4683  30.0661]\n",
            " [ 50.2984  26.0773  24.0389 ...  49.6682  50.853   53.0377]]\n"
          ]
        }
      ],
      "source": [
        "# Shape of the images and the first image\n",
        "\n",
        "print(\"Shape:\", X_train[0].shape)\n",
        "print()\n",
        "print(\"First image:\\n\", X_train[0])"
      ]
    },
    {
      "cell_type": "code",
      "execution_count": 10,
      "metadata": {
        "id": "D9YPwf9ysqWU"
      },
      "outputs": [],
      "source": [
        "# Reshaping the dataset to flatten them. Remember that we always have to give a 4D array as input to CNNs\n",
        "\n",
        "X_train = X_train.reshape(X_train.shape[0], 32,32,1)\n",
        "X_test = X_test.reshape(X_test.shape[0], 32,32,1)"
      ]
    },
    {
      "cell_type": "code",
      "execution_count": 11,
      "metadata": {
        "id": "q_yUUTp_mUzB"
      },
      "outputs": [],
      "source": [
        "# Normalize inputs from 0-255 to 0-1\n",
        "\n",
        "X_train = X_train / 255.0\n",
        "X_test = X_test / 255.0"
      ]
    },
    {
      "cell_type": "code",
      "execution_count": 12,
      "metadata": {
        "colab": {
          "base_uri": "https://localhost:8080/"
        },
        "id": "t7FSqOpamWkH",
        "outputId": "296f2398-1cd7-4600-d650-8cc7b77f5090"
      },
      "outputs": [
        {
          "output_type": "stream",
          "name": "stdout",
          "text": [
            "Training set: (42000, 32, 32, 1) (42000,)\n",
            "Test set: (18000, 32, 32, 1) (18000,)\n"
          ]
        }
      ],
      "source": [
        "# New shape \n",
        "\n",
        "print('Training set:', X_train.shape, y_train.shape)\n",
        "print('Test set:', X_test.shape, y_test.shape)"
      ]
    },
    {
      "cell_type": "markdown",
      "metadata": {
        "id": "YP92jacue2TE"
      },
      "source": [
        "#### **Question 2: One-hot encode the labels in the target variable y_train and y_test (2 Marks)**"
      ]
    },
    {
      "cell_type": "code",
      "execution_count": 13,
      "metadata": {
        "colab": {
          "base_uri": "https://localhost:8080/"
        },
        "id": "zL0lYER4sqWw",
        "outputId": "21d5f9dd-374c-4f19-f058-def35b69c6b0"
      },
      "outputs": [
        {
          "output_type": "execute_result",
          "data": {
            "text/plain": [
              "array([[0., 1., 0., ..., 0., 0., 0.],\n",
              "       [0., 0., 0., ..., 1., 0., 0.],\n",
              "       [0., 0., 1., ..., 0., 0., 0.],\n",
              "       ...,\n",
              "       [0., 0., 0., ..., 1., 0., 0.],\n",
              "       [0., 0., 0., ..., 0., 0., 1.],\n",
              "       [0., 0., 1., ..., 0., 0., 0.]], dtype=float32)"
            ]
          },
          "metadata": {},
          "execution_count": 13
        }
      ],
      "source": [
        "#Write the function and appropriate variable name to one-hot encode the output\n",
        "\n",
        "y_train = to_categorical(y_train)\n",
        "y_test = to_categorical(y_test)\n",
        "\n",
        "#test labels\n",
        "y_test"
      ]
    },
    {
      "cell_type": "markdown",
      "metadata": {
        "id": "ViqPOTquCF76"
      },
      "source": [
        "- Notice that each entry of y_test is a one-hot encoded vector instead of a single label."
      ]
    },
    {
      "cell_type": "markdown",
      "metadata": {
        "id": "yH-gVrzuByNA"
      },
      "source": [
        "## **Model Building**\n",
        "\n",
        "Now, we have done data preprocessing, let's build a CNN model."
      ]
    },
    {
      "cell_type": "code",
      "execution_count": 14,
      "metadata": {
        "id": "eaGr-3Noe2TF"
      },
      "outputs": [],
      "source": [
        "#Fixing the seed for random number generators\n",
        "np.random.seed(42)\n",
        "import random\n",
        "random.seed(42)\n",
        "tf.random.set_seed(42)"
      ]
    },
    {
      "cell_type": "markdown",
      "metadata": {
        "id": "UJDUoaEj1d6e"
      },
      "source": [
        "### **Model Architecture**\n",
        "- Write a function that returns a sequential model with the following architecture\n",
        " - First Convolutional layer with **16 filters and kernel size of 3x3**. Use the **'same' padding** and provide an **apt input shape**\n",
        " - Add a **LeakyRelu layer** with the **slope equal to 0.1**\n",
        " - Second Convolutional layer with **32 filters and kernel size of 3x3 with 'same' padding**\n",
        " - Another **LeakyRelu** with the **slope equal to 0.1**\n",
        " - A **max-pooling layer** with a **pool size of 2x2**\n",
        " - **Flatten** the output from the previous layer\n",
        " - Add a **dense layer with 32 nodes**\n",
        " - Add a **LeakyRelu layer with slope equal to 0.1**\n",
        " - Add the final **output layer with nodes equal to the number of classes** and **softmax activation**\n",
        " - Compile the model with the **categorical_crossentropy loss, adam optimizers (learning_rate = 0.001), and accuracy metric**. Do not fit the model here, just return the compiled model\n",
        "- Call the function and store the model in a new variable\n",
        "- Print the summary of the model.\n",
        "- Fit the model on the train data with a **validation split of 0.2, batch size = 32, verbose = 1, and 20 epochs**. Store the model building history to use later for visualization."
      ]
    },
    {
      "cell_type": "markdown",
      "metadata": {
        "id": "Uw8pZcNwe2TG"
      },
      "source": [
        "#### **Question 3: Build and train a CNN model as per the above mentioned architecture (10 Marks)**"
      ]
    },
    {
      "cell_type": "code",
      "execution_count": 15,
      "metadata": {
        "id": "Cmi81Gr5sqW-"
      },
      "outputs": [],
      "source": [
        "#Importing losses and optimizers modules\n",
        "from tensorflow.keras import losses\n",
        "from tensorflow.keras import optimizers\n",
        "\n",
        "#Define the function\n",
        "def cnn_model_1():\n",
        "    model = Sequential() \n",
        "    #Add layers as per the architecture mentioned above in the same sequence\n",
        "    model.add(Conv2D(filters=16, kernel_size=(3, 3), padding=\"same\", data_format=\"channels_last\", input_shape=(32,32,1)))\n",
        "    model.add(LeakyReLU(alpha=0.1))\n",
        "    model.add(Conv2D(filters=32, kernel_size=(3, 3), padding=\"same\", data_format=\"channels_last\"))\n",
        "    model.add(LeakyReLU(alpha=0.1))\n",
        "    model.add(MaxPool2D(pool_size=(2, 2)))\n",
        "    model.add(Flatten())\n",
        "    model.add(Dense(32))\n",
        "    model.add(LeakyReLU(alpha=0.1))\n",
        "    model.add(Dense(10, activation=\"softmax\"))\n",
        "\n",
        "    #declare adam optimizer with learning rate of 0.001 \n",
        "    adam = optimizers.Adam(learning_rate=0.001)\n",
        "    \n",
        "    #compile the model\n",
        "    model.compile(loss=\"categorical_crossentropy\", optimizer=adam, metrics=[\"accuracy\"])\n",
        "    \n",
        "    return model"
      ]
    },
    {
      "cell_type": "code",
      "execution_count": 16,
      "metadata": {
        "id": "bGCUI_xsImnH"
      },
      "outputs": [],
      "source": [
        "#Build the model\n",
        "model_1 = cnn_model_1()"
      ]
    },
    {
      "cell_type": "code",
      "execution_count": 17,
      "metadata": {
        "colab": {
          "base_uri": "https://localhost:8080/"
        },
        "id": "ckJsLdmdQadZ",
        "outputId": "0a1f495b-0449-404b-eb53-68ee49cec43c"
      },
      "outputs": [
        {
          "output_type": "stream",
          "name": "stdout",
          "text": [
            "Model: \"sequential\"\n",
            "_________________________________________________________________\n",
            " Layer (type)                Output Shape              Param #   \n",
            "=================================================================\n",
            " conv2d (Conv2D)             (None, 32, 32, 16)        160       \n",
            "                                                                 \n",
            " leaky_re_lu (LeakyReLU)     (None, 32, 32, 16)        0         \n",
            "                                                                 \n",
            " conv2d_1 (Conv2D)           (None, 32, 32, 32)        4640      \n",
            "                                                                 \n",
            " leaky_re_lu_1 (LeakyReLU)   (None, 32, 32, 32)        0         \n",
            "                                                                 \n",
            " max_pooling2d (MaxPooling2D  (None, 16, 16, 32)       0         \n",
            " )                                                               \n",
            "                                                                 \n",
            " flatten (Flatten)           (None, 8192)              0         \n",
            "                                                                 \n",
            " dense (Dense)               (None, 32)                262176    \n",
            "                                                                 \n",
            " leaky_re_lu_2 (LeakyReLU)   (None, 32)                0         \n",
            "                                                                 \n",
            " dense_1 (Dense)             (None, 10)                330       \n",
            "                                                                 \n",
            "=================================================================\n",
            "Total params: 267,306\n",
            "Trainable params: 267,306\n",
            "Non-trainable params: 0\n",
            "_________________________________________________________________\n"
          ]
        }
      ],
      "source": [
        "#Print the model summary\n",
        "model_1.summary()"
      ]
    },
    {
      "cell_type": "code",
      "execution_count": 30,
      "metadata": {
        "colab": {
          "base_uri": "https://localhost:8080/"
        },
        "id": "3Fy3Dif_zcCk",
        "outputId": "6d60af5c-c555-4648-c912-d0528ed91a04"
      },
      "outputs": [
        {
          "output_type": "stream",
          "name": "stdout",
          "text": [
            "Epoch 1/20\n",
            "1050/1050 [==============================] - 9s 8ms/step - loss: 1.1948 - accuracy: 0.6012 - val_loss: 0.6452 - val_accuracy: 0.8137\n",
            "Epoch 2/20\n",
            "1050/1050 [==============================] - 8s 8ms/step - loss: 0.5206 - accuracy: 0.8497 - val_loss: 0.4995 - val_accuracy: 0.8607\n",
            "Epoch 3/20\n",
            "1050/1050 [==============================] - 8s 8ms/step - loss: 0.4278 - accuracy: 0.8745 - val_loss: 0.4958 - val_accuracy: 0.8600\n",
            "Epoch 4/20\n",
            "1050/1050 [==============================] - 8s 8ms/step - loss: 0.3754 - accuracy: 0.8907 - val_loss: 0.4520 - val_accuracy: 0.8767\n",
            "Epoch 5/20\n",
            "1050/1050 [==============================] - 9s 8ms/step - loss: 0.3341 - accuracy: 0.8992 - val_loss: 0.4877 - val_accuracy: 0.8630\n",
            "Epoch 6/20\n",
            "1050/1050 [==============================] - 8s 8ms/step - loss: 0.2964 - accuracy: 0.9119 - val_loss: 0.4734 - val_accuracy: 0.8714\n",
            "Epoch 7/20\n",
            "1050/1050 [==============================] - 8s 8ms/step - loss: 0.2685 - accuracy: 0.9190 - val_loss: 0.4724 - val_accuracy: 0.8696\n",
            "Epoch 8/20\n",
            "1050/1050 [==============================] - 8s 8ms/step - loss: 0.2391 - accuracy: 0.9272 - val_loss: 0.5029 - val_accuracy: 0.8679\n",
            "Epoch 9/20\n",
            "1050/1050 [==============================] - 8s 8ms/step - loss: 0.2186 - accuracy: 0.9326 - val_loss: 0.4920 - val_accuracy: 0.8783\n",
            "Epoch 10/20\n",
            "1050/1050 [==============================] - 8s 8ms/step - loss: 0.1953 - accuracy: 0.9403 - val_loss: 0.5127 - val_accuracy: 0.8789\n",
            "Epoch 11/20\n",
            "1050/1050 [==============================] - 8s 8ms/step - loss: 0.1783 - accuracy: 0.9449 - val_loss: 0.5829 - val_accuracy: 0.8638\n",
            "Epoch 12/20\n",
            "1050/1050 [==============================] - 8s 8ms/step - loss: 0.1622 - accuracy: 0.9488 - val_loss: 0.5930 - val_accuracy: 0.8685\n",
            "Epoch 13/20\n",
            "1050/1050 [==============================] - 8s 8ms/step - loss: 0.1450 - accuracy: 0.9548 - val_loss: 0.6194 - val_accuracy: 0.8698\n",
            "Epoch 14/20\n",
            "1050/1050 [==============================] - 8s 8ms/step - loss: 0.1295 - accuracy: 0.9601 - val_loss: 0.6491 - val_accuracy: 0.8682\n",
            "Epoch 15/20\n",
            "1050/1050 [==============================] - 8s 8ms/step - loss: 0.1234 - accuracy: 0.9599 - val_loss: 0.6727 - val_accuracy: 0.8694\n",
            "Epoch 16/20\n",
            "1050/1050 [==============================] - 8s 8ms/step - loss: 0.1113 - accuracy: 0.9651 - val_loss: 0.6713 - val_accuracy: 0.8680\n",
            "Epoch 17/20\n",
            "1050/1050 [==============================] - 8s 8ms/step - loss: 0.0991 - accuracy: 0.9688 - val_loss: 0.7032 - val_accuracy: 0.8675\n",
            "Epoch 18/20\n",
            "1050/1050 [==============================] - 8s 8ms/step - loss: 0.0934 - accuracy: 0.9697 - val_loss: 0.7784 - val_accuracy: 0.8625\n",
            "Epoch 19/20\n",
            "1050/1050 [==============================] - 8s 8ms/step - loss: 0.0825 - accuracy: 0.9737 - val_loss: 0.7678 - val_accuracy: 0.8638\n",
            "Epoch 20/20\n",
            "1050/1050 [==============================] - 8s 8ms/step - loss: 0.0784 - accuracy: 0.9734 - val_loss: 0.8592 - val_accuracy: 0.8638\n"
          ]
        }
      ],
      "source": [
        "# Fit the model\n",
        "history_model_1 = model_1.fit(X_train, y_train, validation_split=0.2, batch_size=32, verbose=1, epochs=20)"
      ]
    },
    {
      "cell_type": "markdown",
      "metadata": {
        "id": "tKOckG-KPyLg"
      },
      "source": [
        "### **Plotting the validation and training accuracies**"
      ]
    },
    {
      "cell_type": "markdown",
      "metadata": {
        "id": "sVyQ9Gpge2TI"
      },
      "source": [
        "#### **Question 4: Write your observations on the below plot (2 Marks)**"
      ]
    },
    {
      "cell_type": "code",
      "execution_count": 31,
      "metadata": {
        "colab": {
          "base_uri": "https://localhost:8080/",
          "height": 497
        },
        "id": "lt77zgGMP4yw",
        "outputId": "ba3814f0-d64c-40ed-eed1-b1ba097691ef"
      },
      "outputs": [
        {
          "output_type": "display_data",
          "data": {
            "image/png": "[encoded data removed]",
            "text/plain": [
              "<Figure size 576x576 with 1 Axes>"
            ]
          },
          "metadata": {
            "needs_background": "light"
          }
        }
      ],
      "source": [
        "# plotting the accuracies\n",
        "\n",
        "dict_hist = history_model_1.history\n",
        "list_ep = [i for i in range(1,21)]\n",
        "\n",
        "plt.figure(figsize = (8,8))\n",
        "plt.plot(list_ep,dict_hist['accuracy'],ls = '--', label = 'accuracy')\n",
        "plt.plot(list_ep,dict_hist['val_accuracy'],ls = '--', label = 'val_accuracy')\n",
        "plt.ylabel('Accuracy')\n",
        "plt.xlabel('Epochs')\n",
        "plt.legend()\n",
        "plt.show()"
      ]
    },
    {
      "cell_type": "markdown",
      "metadata": {
        "id": "pGBbQpLONX7k"
      },
      "source": [
        "**Observations:_____\n",
        "\n",
        "The model does not generalize well. On the training data, the accuracy converges to greater than 95% after 15 epochs. However, performance on validation data isn't as good, peaking at around 85% quickly, and fluctuating thereafter. We need to find a model that generalizes better. \n",
        "\n",
        "_____**"
      ]
    },
    {
      "cell_type": "markdown",
      "metadata": {
        "id": "z0qgLMBZm5-K"
      },
      "source": [
        "Let's build another model and see if we can get a better model with generalized performance.\n",
        "\n",
        "First, we need to clear the previous model's history from the keras backend. Also, let's fix the seed again after clearing the backend."
      ]
    },
    {
      "cell_type": "code",
      "execution_count": 18,
      "metadata": {
        "id": "y98BpLxsok_H"
      },
      "outputs": [],
      "source": [
        "#Clearing backend\n",
        "from tensorflow.keras import backend\n",
        "backend.clear_session()"
      ]
    },
    {
      "cell_type": "code",
      "execution_count": 19,
      "metadata": {
        "id": "HbKi93HTolGW"
      },
      "outputs": [],
      "source": [
        "#Fixing the seed for random number generators\n",
        "np.random.seed(42)\n",
        "import random\n",
        "random.seed(42)\n",
        "tf.random.set_seed(42)"
      ]
    },
    {
      "cell_type": "markdown",
      "metadata": {
        "id": "lT6o3TIKuCtk"
      },
      "source": [
        "### **Second Model Architecture**\n",
        "- Write a function that returns a sequential model with the following architecture\n",
        " - First Convolutional layer with **16 filters and kernel size of 3x3**. Use the **'same' padding** and provide an **apt input shape**\n",
        " - Add a **LeakyRelu layer** with the **slope equal to 0.1**\n",
        " - Second Convolutional layer with **32 filters and kernel size of 3x3 with 'same' padding**\n",
        " - Add **LeakyRelu** with the **slope equal to 0.1**\n",
        " - Add a **max-pooling layer** with a **pool size of 2x2**\n",
        " - Add a **BatchNormalization layer**\n",
        " - Third Convolutional layer with **32 filters and kernel size of 3x3 with 'same' padding**\n",
        " - Add a **LeakyRelu layer with slope equal to 0.1**\n",
        " - Fourth Convolutional layer **64 filters and kernel size of 3x3 with 'same' padding** \n",
        " - Add a **LeakyRelu layer with slope equal to 0.1**\n",
        " - Add a **max-pooling layer** with a **pool size of 2x2**\n",
        " - Add a **BatchNormalization layer**\n",
        " - **Flatten** the output from the previous layer\n",
        " - Add a **dense layer with 32 nodes**\n",
        " - Add a **LeakyRelu layer with slope equal to 0.1**\n",
        " - Add a **dropout layer with rate equal to 0.5**\n",
        " - Add the final **output layer with nodes equal to the number of classes** and **softmax activation**\n",
        " - Compile the model with the **categorical_crossentropy loss, adam optimizers (learning_rate = 0.001), and accuracy metric**. Do not fit the model here, just return the compiled model\n",
        "- Call the function and store the model in a new variable\n",
        "- Print the summary of the model.\n",
        "- Fit the model on the train data with a **validation split of 0.2, batch size = 128, verbose = 1, and 30 epochs**. Store the model building history to use later for visualization."
      ]
    },
    {
      "cell_type": "markdown",
      "metadata": {
        "id": "Sr-bwBT2e2TJ"
      },
      "source": [
        "#### **Question 5: Build and train the second CNN model as per the above mentioned architecture (10 Marks)**"
      ]
    },
    {
      "cell_type": "code",
      "execution_count": 22,
      "metadata": {
        "id": "EEPYLFIPnSDP"
      },
      "outputs": [],
      "source": [
        "#Define the function\n",
        "def cnn_model_2():\n",
        "    model = Sequential() \n",
        "    #Add layers as per the architecture mentioned above in the same sequence\n",
        "    model.add(Conv2D(filters=16, kernel_size=(3, 3), padding=\"same\", data_format=\"channels_last\", input_shape=(32,32,1)))\n",
        "    model.add(LeakyReLU(alpha=0.1))\n",
        "    model.add(Conv2D(filters=32, kernel_size=(3, 3), padding=\"same\", data_format=\"channels_last\"))\n",
        "    model.add(LeakyReLU(alpha=0.1))\n",
        "    model.add(MaxPool2D(pool_size=(2, 2)))\n",
        "    model.add(BatchNormalization())\n",
        "    model.add(Conv2D(filters=32, kernel_size=(3, 3), padding=\"same\", data_format=\"channels_last\"))\n",
        "    model.add(LeakyReLU(alpha=0.1))\n",
        "    model.add(Conv2D(filters=64, kernel_size=(3, 3), padding=\"same\", data_format=\"channels_last\"))\n",
        "    model.add(LeakyReLU(alpha=0.1))\n",
        "    model.add(MaxPool2D(pool_size=(2, 2)))\n",
        "    model.add(BatchNormalization())\n",
        "    model.add(Flatten())\n",
        "    model.add(Dense(32))\n",
        "    model.add(LeakyReLU(alpha=0.1))\n",
        "    model.add(Dropout(rate=0.5))\n",
        "    model.add(Dense(10, activation=\"softmax\"))\n",
        "\n",
        "    #declare adam optimizer with learning rate of 0.001 \n",
        "    adam = optimizers.Adam(learning_rate=0.001)\n",
        "    \n",
        "    #compile the model\n",
        "    model.compile(loss=\"categorical_crossentropy\", optimizer=adam, metrics=[\"accuracy\"])\n",
        "    \n",
        "    return model"
      ]
    },
    {
      "cell_type": "code",
      "execution_count": 23,
      "metadata": {
        "id": "AKjDY4plnSFl"
      },
      "outputs": [],
      "source": [
        "# Build the model\n",
        "model_2 = cnn_model_2()"
      ]
    },
    {
      "cell_type": "code",
      "execution_count": 24,
      "metadata": {
        "colab": {
          "base_uri": "https://localhost:8080/"
        },
        "id": "gz_6SVrU2swZ",
        "outputId": "65c61671-1f5d-48b9-b579-667ad1bdfa19"
      },
      "outputs": [
        {
          "output_type": "stream",
          "name": "stdout",
          "text": [
            "Model: \"sequential_1\"\n",
            "_________________________________________________________________\n",
            " Layer (type)                Output Shape              Param #   \n",
            "=================================================================\n",
            " conv2d_1 (Conv2D)           (None, 32, 32, 16)        160       \n",
            "                                                                 \n",
            " leaky_re_lu (LeakyReLU)     (None, 32, 32, 16)        0         \n",
            "                                                                 \n",
            " conv2d_2 (Conv2D)           (None, 32, 32, 32)        4640      \n",
            "                                                                 \n",
            " leaky_re_lu_1 (LeakyReLU)   (None, 32, 32, 32)        0         \n",
            "                                                                 \n",
            " max_pooling2d (MaxPooling2D  (None, 16, 16, 32)       0         \n",
            " )                                                               \n",
            "                                                                 \n",
            " batch_normalization (BatchN  (None, 16, 16, 32)       128       \n",
            " ormalization)                                                   \n",
            "                                                                 \n",
            " conv2d_3 (Conv2D)           (None, 16, 16, 32)        9248      \n",
            "                                                                 \n",
            " leaky_re_lu_2 (LeakyReLU)   (None, 16, 16, 32)        0         \n",
            "                                                                 \n",
            " conv2d_4 (Conv2D)           (None, 16, 16, 64)        18496     \n",
            "                                                                 \n",
            " leaky_re_lu_3 (LeakyReLU)   (None, 16, 16, 64)        0         \n",
            "                                                                 \n",
            " max_pooling2d_1 (MaxPooling  (None, 8, 8, 64)         0         \n",
            " 2D)                                                             \n",
            "                                                                 \n",
            " batch_normalization_1 (Batc  (None, 8, 8, 64)         256       \n",
            " hNormalization)                                                 \n",
            "                                                                 \n",
            " flatten (Flatten)           (None, 4096)              0         \n",
            "                                                                 \n",
            " dense (Dense)               (None, 32)                131104    \n",
            "                                                                 \n",
            " leaky_re_lu_4 (LeakyReLU)   (None, 32)                0         \n",
            "                                                                 \n",
            " dropout (Dropout)           (None, 32)                0         \n",
            "                                                                 \n",
            " dense_1 (Dense)             (None, 10)                330       \n",
            "                                                                 \n",
            "=================================================================\n",
            "Total params: 164,362\n",
            "Trainable params: 164,170\n",
            "Non-trainable params: 192\n",
            "_________________________________________________________________\n"
          ]
        }
      ],
      "source": [
        "#Print the summary\n",
        "model_2.summary()"
      ]
    },
    {
      "cell_type": "code",
      "execution_count": 25,
      "metadata": {
        "colab": {
          "base_uri": "https://localhost:8080/"
        },
        "id": "IQ0Sc4R-y-uu",
        "outputId": "d3fa20b2-8191-4142-ec1c-c55da2a9ab16"
      },
      "outputs": [
        {
          "output_type": "stream",
          "name": "stdout",
          "text": [
            "Epoch 1/30\n",
            "263/263 [==============================] - 16s 23ms/step - loss: 1.4312 - accuracy: 0.5118 - val_loss: 1.5121 - val_accuracy: 0.4627\n",
            "Epoch 2/30\n",
            "263/263 [==============================] - 6s 21ms/step - loss: 0.6588 - accuracy: 0.8005 - val_loss: 0.5172 - val_accuracy: 0.8511\n",
            "Epoch 3/30\n",
            "263/263 [==============================] - 6s 21ms/step - loss: 0.5355 - accuracy: 0.8373 - val_loss: 0.4419 - val_accuracy: 0.8760\n",
            "Epoch 4/30\n",
            "263/263 [==============================] - 6s 22ms/step - loss: 0.4768 - accuracy: 0.8523 - val_loss: 0.4048 - val_accuracy: 0.8823\n",
            "Epoch 5/30\n",
            "263/263 [==============================] - 5s 21ms/step - loss: 0.4423 - accuracy: 0.8646 - val_loss: 0.4310 - val_accuracy: 0.8807\n",
            "Epoch 6/30\n",
            "263/263 [==============================] - 6s 21ms/step - loss: 0.3969 - accuracy: 0.8795 - val_loss: 0.3720 - val_accuracy: 0.8971\n",
            "Epoch 7/30\n",
            "263/263 [==============================] - 6s 22ms/step - loss: 0.3768 - accuracy: 0.8834 - val_loss: 0.3741 - val_accuracy: 0.8945\n",
            "Epoch 8/30\n",
            "263/263 [==============================] - 6s 21ms/step - loss: 0.3403 - accuracy: 0.8959 - val_loss: 0.3653 - val_accuracy: 0.9011\n",
            "Epoch 9/30\n",
            "263/263 [==============================] - 6s 21ms/step - loss: 0.3247 - accuracy: 0.8992 - val_loss: 0.3593 - val_accuracy: 0.9075\n",
            "Epoch 10/30\n",
            "263/263 [==============================] - 5s 21ms/step - loss: 0.3075 - accuracy: 0.9043 - val_loss: 0.3567 - val_accuracy: 0.9037\n",
            "Epoch 11/30\n",
            "263/263 [==============================] - 6s 21ms/step - loss: 0.2856 - accuracy: 0.9114 - val_loss: 0.3736 - val_accuracy: 0.9004\n",
            "Epoch 12/30\n",
            "263/263 [==============================] - 5s 21ms/step - loss: 0.2725 - accuracy: 0.9120 - val_loss: 0.3685 - val_accuracy: 0.9069\n",
            "Epoch 13/30\n",
            "263/263 [==============================] - 5s 21ms/step - loss: 0.2592 - accuracy: 0.9183 - val_loss: 0.3739 - val_accuracy: 0.9054\n",
            "Epoch 14/30\n",
            "263/263 [==============================] - 6s 21ms/step - loss: 0.2495 - accuracy: 0.9196 - val_loss: 0.3376 - val_accuracy: 0.9132\n",
            "Epoch 15/30\n",
            "263/263 [==============================] - 6s 21ms/step - loss: 0.2400 - accuracy: 0.9237 - val_loss: 0.3920 - val_accuracy: 0.9017\n",
            "Epoch 16/30\n",
            "263/263 [==============================] - 5s 21ms/step - loss: 0.2316 - accuracy: 0.9262 - val_loss: 0.3560 - val_accuracy: 0.9089\n",
            "Epoch 17/30\n",
            "263/263 [==============================] - 6s 21ms/step - loss: 0.2219 - accuracy: 0.9279 - val_loss: 0.3661 - val_accuracy: 0.9073\n",
            "Epoch 18/30\n",
            "263/263 [==============================] - 6s 21ms/step - loss: 0.2067 - accuracy: 0.9319 - val_loss: 0.4006 - val_accuracy: 0.8980\n",
            "Epoch 19/30\n",
            "263/263 [==============================] - 6s 21ms/step - loss: 0.1998 - accuracy: 0.9358 - val_loss: 0.3594 - val_accuracy: 0.9083\n",
            "Epoch 20/30\n",
            "263/263 [==============================] - 6s 21ms/step - loss: 0.1984 - accuracy: 0.9358 - val_loss: 0.3881 - val_accuracy: 0.9108\n",
            "Epoch 21/30\n",
            "263/263 [==============================] - 6s 21ms/step - loss: 0.1917 - accuracy: 0.9364 - val_loss: 0.3925 - val_accuracy: 0.9115\n",
            "Epoch 22/30\n",
            "263/263 [==============================] - 6s 22ms/step - loss: 0.1858 - accuracy: 0.9400 - val_loss: 0.4424 - val_accuracy: 0.8960\n",
            "Epoch 23/30\n",
            "263/263 [==============================] - 5s 21ms/step - loss: 0.1803 - accuracy: 0.9401 - val_loss: 0.4179 - val_accuracy: 0.9125\n",
            "Epoch 24/30\n",
            "263/263 [==============================] - 6s 21ms/step - loss: 0.1750 - accuracy: 0.9426 - val_loss: 0.4398 - val_accuracy: 0.8973\n",
            "Epoch 25/30\n",
            "263/263 [==============================] - 6s 21ms/step - loss: 0.1697 - accuracy: 0.9443 - val_loss: 0.4544 - val_accuracy: 0.9129\n",
            "Epoch 26/30\n",
            "263/263 [==============================] - 6s 22ms/step - loss: 0.1647 - accuracy: 0.9455 - val_loss: 0.3951 - val_accuracy: 0.9169\n",
            "Epoch 27/30\n",
            "263/263 [==============================] - 6s 21ms/step - loss: 0.1529 - accuracy: 0.9493 - val_loss: 0.4885 - val_accuracy: 0.9119\n",
            "Epoch 28/30\n",
            "263/263 [==============================] - 5s 21ms/step - loss: 0.1475 - accuracy: 0.9492 - val_loss: 0.4419 - val_accuracy: 0.9145\n",
            "Epoch 29/30\n",
            "263/263 [==============================] - 6s 21ms/step - loss: 0.1505 - accuracy: 0.9509 - val_loss: 0.4923 - val_accuracy: 0.9061\n",
            "Epoch 30/30\n",
            "263/263 [==============================] - 6s 21ms/step - loss: 0.1442 - accuracy: 0.9522 - val_loss: 0.4679 - val_accuracy: 0.9127\n"
          ]
        }
      ],
      "source": [
        "# Fit the model\n",
        "history_model_2 = model_2.fit(X_train, y_train, validation_split=0.2, batch_size=128, verbose=1, epochs=30)"
      ]
    },
    {
      "cell_type": "markdown",
      "metadata": {
        "id": "0_f1EXmTe2TK"
      },
      "source": [
        "### **Plotting the validation and training accuracies**"
      ]
    },
    {
      "cell_type": "markdown",
      "metadata": {
        "id": "aC5UbsqXe2TK"
      },
      "source": [
        "#### **Question 6: Write your observations on the below plot (2 Marks)**"
      ]
    },
    {
      "cell_type": "code",
      "execution_count": 26,
      "metadata": {
        "colab": {
          "base_uri": "https://localhost:8080/",
          "height": 497
        },
        "id": "01ig6BrF1KVy",
        "outputId": "158a39d3-44d6-4717-b9c6-ccfb296ca1c3"
      },
      "outputs": [
        {
          "output_type": "display_data",
          "data": {
            "image/png": "[encoded data removed]",
            "text/plain": [
              "<Figure size 576x576 with 1 Axes>"
            ]
          },
          "metadata": {
            "needs_background": "light"
          }
        }
      ],
      "source": [
        "# plotting the accuracies\n",
        "\n",
        "dict_hist = history_model_2.history\n",
        "list_ep = [i for i in range(1,31)]\n",
        "\n",
        "plt.figure(figsize = (8,8))\n",
        "plt.plot(list_ep,dict_hist['accuracy'],ls = '--', label = 'accuracy')\n",
        "plt.plot(list_ep,dict_hist['val_accuracy'],ls = '--', label = 'val_accuracy')\n",
        "plt.ylabel('Accuracy')\n",
        "plt.xlabel('Epochs')\n",
        "plt.legend()\n",
        "plt.show()"
      ]
    },
    {
      "cell_type": "markdown",
      "metadata": {
        "id": "VPW1LlD61RDn"
      },
      "source": [
        "**Observations:________**\n",
        "\n",
        "The accuracy on the training data has slightly worsened. After 30 epochs, the accuracy is 95%, as compared to 98% in the previous model.\n",
        "\n",
        "However, crucially, the performance on the validation data has increased substantially, to 91%, from 87%. That means the model is more generalized. \n",
        "\n",
        "It's possible that the optimizer is stuck at a local minima. \n",
        "\n",
        "Nonetheless, this model has good performance-we will now check performance on test data. "
      ]
    },
    {
      "cell_type": "markdown",
      "metadata": {
        "id": "8kuXx9Bvu00f"
      },
      "source": [
        "## **Predictions on the test data**\n",
        "\n",
        "- Make predictions on the test set using the second model\n",
        "- Print the obtained results using the classification report and the confusion matrix\n",
        "- Final observations from the obtained results"
      ]
    },
    {
      "cell_type": "markdown",
      "metadata": {
        "id": "yfZwC9OUe2TL"
      },
      "source": [
        "#### **Question 7: Make predictions on the test data using the second model (1 Mark)**"
      ]
    },
    {
      "cell_type": "code",
      "execution_count": 27,
      "metadata": {
        "id": "xbWMEtTj5Ad0"
      },
      "outputs": [],
      "source": [
        "#Make prediction on the test data using model_2 \n",
        "test_pred = model_2.predict(X_test)\n",
        "\n",
        "test_pred = np.argmax(test_pred, axis=-1)"
      ]
    },
    {
      "cell_type": "markdown",
      "metadata": {
        "id": "i3li8Ib08yts"
      },
      "source": [
        "**Note:** Earlier, we noticed that each entry of the test data is a one-hot encoded vector but to print the classification report and confusion matrix, we must convert each entry of y_test to a single label."
      ]
    },
    {
      "cell_type": "code",
      "execution_count": 28,
      "metadata": {
        "id": "NByu7uAQ8x9P"
      },
      "outputs": [],
      "source": [
        "#Converting each entry to single label from one-hot encoded vector\n",
        "y_test = np.argmax(y_test, axis=-1)"
      ]
    },
    {
      "cell_type": "markdown",
      "metadata": {
        "id": "yHDUEma0e2TM"
      },
      "source": [
        "#### **Question 8: Write your final observations on the performance of the model on the test data (2 Marks)**"
      ]
    },
    {
      "cell_type": "code",
      "execution_count": 29,
      "metadata": {
        "colab": {
          "base_uri": "https://localhost:8080/",
          "height": 629
        },
        "id": "xRddeJ-3EHT1",
        "outputId": "66fc75ad-93a5-430d-9616-54d25126d287"
      },
      "outputs": [
        {
          "output_type": "stream",
          "name": "stdout",
          "text": [
            "              precision    recall  f1-score   support\n",
            "\n",
            "           0       0.89      0.95      0.92      1814\n",
            "           1       0.90      0.92      0.91      1828\n",
            "           2       0.94      0.92      0.93      1803\n",
            "           3       0.91      0.88      0.90      1719\n",
            "           4       0.94      0.92      0.93      1812\n",
            "           5       0.92      0.90      0.91      1768\n",
            "           6       0.90      0.90      0.90      1832\n",
            "           7       0.94      0.93      0.94      1808\n",
            "           8       0.88      0.92      0.90      1812\n",
            "           9       0.92      0.91      0.91      1804\n",
            "\n",
            "    accuracy                           0.91     18000\n",
            "   macro avg       0.91      0.91      0.91     18000\n",
            "weighted avg       0.91      0.91      0.91     18000\n",
            "\n"
          ]
        },
        {
          "output_type": "display_data",
          "data": {
            "image/png": "[encoded data removed]",
            "text/plain": [
              "<Figure size 576x360 with 2 Axes>"
            ]
          },
          "metadata": {
            "needs_background": "light"
          }
        }
      ],
      "source": [
        "#importing required functions\n",
        "from sklearn.metrics import classification_report\n",
        "from sklearn.metrics import confusion_matrix\n",
        "\n",
        "#Printing the classification report\n",
        "print(classification_report(y_test, test_pred))\n",
        "\n",
        "#Plotting the heatmap using confusion matrix\n",
        "cm = confusion_matrix(y_test, test_pred)\n",
        "plt.figure(figsize=(8,5))\n",
        "sns.heatmap(cm, annot=True,  fmt='.0f')\n",
        "plt.ylabel('Actual')\n",
        "plt.xlabel('Predicted')\n",
        "plt.show()"
      ]
    },
    {
      "cell_type": "markdown",
      "metadata": {
        "id": "DjErl4GA2u9s"
      },
      "source": [
        "#### **Observations:_________**\n",
        "\n",
        "We can evaluate the confusion matrix and classification report.\n",
        "\n",
        "Overall accuracy is 0.91 on the test data. That is a similar performance to the validation data. 0.95 accuracy on the training data-the model generalizes well enough, but there is some overfitting on the training data. We did use some techniques (batch normalization, dropout) to mitigate this relative to the first model. \n",
        "\n",
        "Precision and recall are largely consistent across classes, with most above 90%. Precision is relatively lower for class 8 at 0.88, and recall is 0.88 for class 32. That means there may be more false positives for class 8, and false negatives for class 3. \n",
        "\n",
        "FL-scores are greater than 90% across the board; the model is very good. .\n",
        "\n",
        "Could play with hyperparamters and different optimizers to try to increase accuracy. \n"
      ]
    }
  ],
  "metadata": {
    "accelerator": "GPU",
    "colab": {
      "collapsed_sections": [],
      "name": "DeepakRamaswami_CNN.ipynb",
      "provenance": []
    },
    "kernelspec": {
      "display_name": "Python 3 (ipykernel)",
      "language": "python",
      "name": "python3"
    },
    "language_info": {
      "codemirror_mode": {
        "name": "ipython",
        "version": 3
      },
      "file_extension": ".py",
      "mimetype": "text/x-python",
      "name": "python",
      "nbconvert_exporter": "python",
      "pygments_lexer": "ipython3",
      "version": "3.9.7"
    }
  },
  "nbformat": 4,
  "nbformat_minor": 0
}